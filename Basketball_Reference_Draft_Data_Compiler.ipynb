{
 "cells": [
  {
   "cell_type": "code",
   "execution_count": 1,
   "id": "0738cb4f-f80a-4ff6-b905-648638d39e93",
   "metadata": {},
   "outputs": [
    {
     "name": "stdout",
     "output_type": "stream",
     "text": [
      "🔄 Fetching 1985 standings...\n",
      "✅ 1985 loaded (24) rows\n",
      "🔄 Fetching 1986 standings...\n",
      "✅ 1986 loaded (24) rows\n",
      "🔄 Fetching 1987 standings...\n",
      "✅ 1987 loaded (24) rows\n",
      "🔄 Fetching 1988 standings...\n",
      "✅ 1988 loaded (24) rows\n",
      "🔄 Fetching 1989 standings...\n",
      "✅ 1989 loaded (26) rows\n",
      "🔄 Fetching 1990 standings...\n",
      "✅ 1990 loaded (28) rows\n",
      "🔄 Fetching 1991 standings...\n",
      "✅ 1991 loaded (28) rows\n",
      "🔄 Fetching 1992 standings...\n",
      "✅ 1992 loaded (28) rows\n",
      "🔄 Fetching 1993 standings...\n",
      "✅ 1993 loaded (28) rows\n",
      "🔄 Fetching 1994 standings...\n",
      "✅ 1994 loaded (28) rows\n",
      "🔄 Fetching 1995 standings...\n",
      "✅ 1995 loaded (28) rows\n",
      "🔄 Fetching 1996 standings...\n",
      "✅ 1996 loaded (30) rows\n",
      "🔄 Fetching 1997 standings...\n",
      "✅ 1997 loaded (30) rows\n",
      "🔄 Fetching 1998 standings...\n",
      "✅ 1998 loaded (30) rows\n",
      "🔄 Fetching 1999 standings...\n",
      "✅ 1999 loaded (30) rows\n",
      "🔄 Fetching 2000 standings...\n",
      "✅ 2000 loaded (30) rows\n",
      "🔄 Fetching 2001 standings...\n",
      "✅ 2001 loaded (30) rows\n",
      "🔄 Fetching 2002 standings...\n",
      "✅ 2002 loaded (30) rows\n",
      "🔄 Fetching 2003 standings...\n",
      "✅ 2003 loaded (30) rows\n",
      "🔄 Fetching 2004 standings...\n",
      "✅ 2004 loaded (30) rows\n",
      "🔄 Fetching 2005 standings...\n",
      "✅ 2005 loaded (31) rows\n",
      "🔄 Fetching 2006 standings...\n",
      "✅ 2006 loaded (31) rows\n",
      "🔄 Fetching 2007 standings...\n",
      "✅ 2007 loaded (31) rows\n",
      "🔄 Fetching 2008 standings...\n",
      "✅ 2008 loaded (31) rows\n",
      "🔄 Fetching 2009 standings...\n",
      "✅ 2009 loaded (31) rows\n",
      "🔄 Fetching 2010 standings...\n",
      "✅ 2010 loaded (31) rows\n",
      "🔄 Fetching 2011 standings...\n",
      "✅ 2011 loaded (31) rows\n",
      "🔄 Fetching 2012 standings...\n",
      "✅ 2012 loaded (31) rows\n",
      "🔄 Fetching 2013 standings...\n",
      "✅ 2013 loaded (31) rows\n",
      "🔄 Fetching 2014 standings...\n",
      "✅ 2014 loaded (31) rows\n",
      "🔄 Fetching 2015 standings...\n",
      "✅ 2015 loaded (31) rows\n",
      "🔄 Fetching 2016 standings...\n",
      "✅ 2016 loaded (31) rows\n",
      "🔄 Fetching 2017 standings...\n",
      "✅ 2017 loaded (31) rows\n",
      "🔄 Fetching 2018 standings...\n",
      "✅ 2018 loaded (31) rows\n",
      "🔄 Fetching 2019 standings...\n",
      "✅ 2019 loaded (31) rows\n",
      "🔄 Fetching 2020 standings...\n",
      "✅ 2020 loaded (31) rows\n",
      "🔄 Fetching 2021 standings...\n",
      "✅ 2021 loaded (31) rows\n",
      "🔄 Fetching 2022 standings...\n",
      "✅ 2022 loaded (31) rows\n",
      "🔄 Fetching 2023 standings...\n",
      "✅ 2023 loaded (31) rows\n"
     ]
    }
   ],
   "source": [
    "import pandas as pd\n",
    "import time\n",
    "import random\n",
    "\n",
    "all_standings = []\n",
    "\n",
    "for year in range(1985, 2024):\n",
    "    url = f\"https://www.basketball-reference.com/leagues/NBA_{year}.html\"\n",
    "    print(f\"🔄 Fetching {year} standings...\")\n",
    "\n",
    "    try:\n",
    "        tables = pd.read_html(url, header=1)\n",
    "\n",
    "        # Loop through each table and keep any with 'W' and 'L'\n",
    "        for t in tables:\n",
    "            if {'W', 'L'}.issubset(set(t.columns)):\n",
    "                df = t.rename(columns={'Tm': 'Team'}) if 'Tm' in t.columns else t\n",
    "                df = df[pd.to_numeric(df['W'], errors='coerce').notnull()].copy()\n",
    "                df['Draft Year'] = year\n",
    "                all_standings.append(df)\n",
    "\n",
    "        print(f\"✅ {year} loaded ({sum(len(t) for t in tables if {'W', 'L'}.issubset(set(t.columns)))}) rows\")\n",
    "\n",
    "    except Exception as e:\n",
    "        print(f\"❌ {year} failed: {e}\")\n",
    "\n",
    "    time.sleep(random.uniform(5, 10))\n",
    "\n",
    "# Combine everything, with no filtering on columns\n",
    "standings_df = pd.concat(all_standings, ignore_index=True)"
   ]
  },
  {
   "cell_type": "code",
   "execution_count": 6,
   "id": "e510bc25-d5c1-4f94-9d02-899f5051f69a",
   "metadata": {},
   "outputs": [
    {
     "name": "stdout",
     "output_type": "stream",
     "text": [
      "/Users/keyan\n"
     ]
    }
   ],
   "source": [
    "import os\n",
    "print(os.getcwd())\n",
    "\n",
    "standings_df.to_csv(\"/Users/keyan/Desktop/nba_raw_standings_1985_2023.csv\", index=False)"
   ]
  },
  {
   "cell_type": "code",
   "execution_count": null,
   "id": "90e54268-95c4-49ce-ba2e-0a2ee2fddf17",
   "metadata": {},
   "outputs": [],
   "source": []
  }
 ],
 "metadata": {
  "kernelspec": {
   "display_name": "Python 3 (ipykernel)",
   "language": "python",
   "name": "python3"
  },
  "language_info": {
   "codemirror_mode": {
    "name": "ipython",
    "version": 3
   },
   "file_extension": ".py",
   "mimetype": "text/x-python",
   "name": "python",
   "nbconvert_exporter": "python",
   "pygments_lexer": "ipython3",
   "version": "3.12.4"
  }
 },
 "nbformat": 4,
 "nbformat_minor": 5
}
